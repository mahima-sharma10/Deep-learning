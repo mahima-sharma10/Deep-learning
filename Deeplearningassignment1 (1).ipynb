{
  "nbformat": 4,
  "nbformat_minor": 0,
  "metadata": {
    "colab": {
      "provenance": []
    },
    "kernelspec": {
      "name": "python3",
      "display_name": "Python 3"
    },
    "language_info": {
      "name": "python"
    }
  },
  "cells": [
    {
      "cell_type": "markdown",
      "source": [
        "**Part-1**\n",
        "\n",
        "\n",
        "---\n",
        "\n",
        "\n",
        "**1: Brief description of algorithm, including references to sources used.**\n",
        "\n",
        "\n",
        "---\n",
        "\n",
        "\n",
        "**Logistic regression is a classification algorithm, used to predict the labels by training the classifier. To attempt classification, one method is to use linear regression and map all predictions greater than 0.5 as a 1 and all less than 0.5 as a 0. However, this method doesn't work well because classification is not actually a linear function and performs poorly. Hence, logistic regression uses an activation function(sigmoid) which fixes the issue and predicts the values between 0 and 1.**\n",
        "\n",
        "\n",
        "---\n",
        "\n",
        "\n",
        "**Sources - Coursera: Machine learning by Andrew Ng**\n",
        "https://www.coursera.org/learn/machine-learning \n",
        "\n",
        "---\n",
        "\n"
      ],
      "metadata": {
        "id": "qRYpuKn0K-De"
      }
    },
    {
      "cell_type": "code",
      "execution_count": 1,
      "metadata": {
        "id": "Lgdgd5LRPOcU"
      },
      "outputs": [],
      "source": [
        "import numpy as np\n",
        "import pandas as pd\n",
        "import matplotlib.pyplot as plt\n",
        "import random"
      ]
    },
    {
      "cell_type": "markdown",
      "source": [
        "\n",
        "\n",
        "---\n",
        "\n",
        "\n",
        "**Implementation of Logistic regression**\n",
        "\n",
        "\n",
        "---\n",
        "\n"
      ],
      "metadata": {
        "id": "k0I4XJf1A-lu"
      }
    },
    {
      "cell_type": "code",
      "source": [
        "def sigmoid(x):\n",
        "  return 1/(1+np.exp(-x))"
      ],
      "metadata": {
        "id": "59jsmQO-OkgF"
      },
      "execution_count": 2,
      "outputs": []
    },
    {
      "cell_type": "code",
      "source": [
        "def model(X, y, learning_rate, iterations):\n",
        "  m = X.shape[1] #training example\n",
        "  n = X.shape[0] #number of features\n",
        "\n",
        "  w = np.zeros((n,1))\n",
        "  b = 0\n",
        "  cost_list = []\n",
        "\n",
        "  for i in range(iterations):\n",
        "    z = np.dot(w.T, X) + b\n",
        "    a = sigmoid(z)   #probabilistic predictions\n",
        "\n",
        "    cost = -(1/m)*np.sum(y*np.log(a) + (1-y)*np.log(1-a))\n",
        "\n",
        "    dw = (1/m)*np.dot(a - y, X.T)\n",
        "    db = (1/m)*np.sum(a - y)\n",
        "\n",
        "    w = w - learning_rate*dw.T\n",
        "    b = b - learning_rate*db\n",
        "\n",
        "    cost_list.append(cost)\n",
        "\n",
        "    if(i%iterations/5 == 0):\n",
        "      print(\"cost after \", i, \"iteration is : \", cost)\n",
        "  \n",
        "  return w, b, cost_list\n"
      ],
      "metadata": {
        "id": "VcmZAqZuHD9R"
      },
      "execution_count": 3,
      "outputs": []
    },
    {
      "cell_type": "code",
      "source": [
        "def accuracy(x, y, w, b):\n",
        "  z = np.dot(w.T, x) + b\n",
        "  a = sigmoid(z)\n",
        "\n",
        "  a = a > 0.5\n",
        "\n",
        "  a = np.array(a, dtype = 'int64')\n",
        "  acc = (1 - np.sum(np.absolute( a - y))/y.shape[1])*100\n",
        "\n",
        "  print(\"Accuracy of the model is : \", acc, \"%\")"
      ],
      "metadata": {
        "id": "5jlP5An6iZCD"
      },
      "execution_count": 4,
      "outputs": []
    },
    {
      "cell_type": "markdown",
      "source": [
        "**Part -2** \n",
        "\n",
        "---\n",
        "\n",
        "**1.  Code to read in a dataset with variable number of training cases and attributes, and divide it into a training set, validation set and testing set.**\n",
        "\n",
        "\n",
        "---\n",
        "\n"
      ],
      "metadata": {
        "id": "UgZVGCcvXN8V"
      }
    },
    {
      "cell_type": "code",
      "source": [
        "#importing blobs and moons dataset\n",
        "!curl \"https://raw.githubusercontent.com/mahima-sharma10/Deep-learning/main/blobs400.csv\" > blobs400.csv\n",
        "!curl \"https://raw.githubusercontent.com/mahima-sharma10/Deep-learning/main/moons500.csv\" > moons500.csv"
      ],
      "metadata": {
        "colab": {
          "base_uri": "https://localhost:8080/"
        },
        "id": "clfdP_3LQRo2",
        "outputId": "ce63a588-d3b4-4781-ae5f-9d870fdae06a"
      },
      "execution_count": 5,
      "outputs": [
        {
          "output_type": "stream",
          "name": "stdout",
          "text": [
            "  % Total    % Received % Xferd  Average Speed   Time    Time     Time  Current\n",
            "                                 Dload  Upload   Total   Spent    Left  Speed\n",
            "100 24044  100 24044    0     0   154k      0 --:--:-- --:--:-- --:--:--  155k\n",
            "  % Total    % Received % Xferd  Average Speed   Time    Time     Time  Current\n",
            "                                 Dload  Upload   Total   Spent    Left  Speed\n",
            "100 21028  100 21028    0     0   154k      0 --:--:-- --:--:-- --:--:--  153k\n"
          ]
        }
      ]
    },
    {
      "cell_type": "code",
      "source": [
        "# Use pandas to read the CSV file as a dataframe\n",
        "df_blobs = pd.read_csv(\"blobs400.csv\")\n",
        "df_moons = pd.read_csv(\"moons500.csv\")\n",
        "# The y values are those labelled 'Class': extract their values\n",
        "y_blobs = df_blobs['Class'].values\n",
        "y_moons = df_moons['Class'].values\n",
        "# The x values are all other columns\n",
        "del df_blobs['Class']   # drop the 'Class' column from the dataframe\n",
        "X_blobs = df_blobs.values     # convert the remaining columns to a numpy array\n",
        "# The x values are all other columns\n",
        "del df_moons['Class']   # drop the 'Class' column from the dataframe\n",
        "X_moons = df_moons.values     # convert the remaining columns to a numpy array"
      ],
      "metadata": {
        "id": "23qy0LRgQjS0"
      },
      "execution_count": 6,
      "outputs": []
    },
    {
      "cell_type": "code",
      "source": [
        "print(len(X_blobs))\n",
        "print(len(y_blobs))\n",
        "print(len(X_moons))\n",
        "print(len(y_moons))\n",
        "print(X_moons.shape),print(y_moons.shape),print(X_blobs.shape),print(y_blobs.shape)"
      ],
      "metadata": {
        "colab": {
          "base_uri": "https://localhost:8080/"
        },
        "id": "1KpgXJV-d4DM",
        "outputId": "b9980fcd-15a5-4923-998b-f99cfb8405b1"
      },
      "execution_count": 7,
      "outputs": [
        {
          "output_type": "stream",
          "name": "stdout",
          "text": [
            "400\n",
            "400\n",
            "500\n",
            "500\n",
            "(500, 2)\n",
            "(500,)\n",
            "(400, 3)\n",
            "(400,)\n"
          ]
        },
        {
          "output_type": "execute_result",
          "data": {
            "text/plain": [
              "(None, None, None, None)"
            ]
          },
          "metadata": {},
          "execution_count": 7
        }
      ]
    },
    {
      "cell_type": "code",
      "source": [
        "# plot X[0] vs X[1] and colour points according to the class, y\n",
        "plt.scatter(X_blobs[:,0], X_blobs[:,1], c=y_blobs)  "
      ],
      "metadata": {
        "colab": {
          "base_uri": "https://localhost:8080/",
          "height": 283
        },
        "id": "ooUMSyWBSpzI",
        "outputId": "521bee66-8197-46cc-d07d-d86f4fe1e944"
      },
      "execution_count": 8,
      "outputs": [
        {
          "output_type": "execute_result",
          "data": {
            "text/plain": [
              "<matplotlib.collections.PathCollection at 0x7f9dad3e7b50>"
            ]
          },
          "metadata": {},
          "execution_count": 8
        },
        {
          "output_type": "display_data",
          "data": {
            "text/plain": [
              "<Figure size 432x288 with 1 Axes>"
            ],
            "image/png": "[encoded data removed]"
          },
          "metadata": {
            "needs_background": "light"
          }
        }
      ]
    },
    {
      "cell_type": "code",
      "source": [
        "# plot X[0] vs X[1] and colour points according to the class, y\n",
        "plt.scatter(X_moons[:,0], X_moons[:,1], c=y_moons) "
      ],
      "metadata": {
        "colab": {
          "base_uri": "https://localhost:8080/",
          "height": 283
        },
        "id": "PqvJTHj6Sx1k",
        "outputId": "b1609a78-f7d9-49e1-afab-92e2ea6e068a"
      },
      "execution_count": 9,
      "outputs": [
        {
          "output_type": "execute_result",
          "data": {
            "text/plain": [
              "<matplotlib.collections.PathCollection at 0x7f9dacb02550>"
            ]
          },
          "metadata": {},
          "execution_count": 9
        },
        {
          "output_type": "display_data",
          "data": {
            "text/plain": [
              "<Figure size 432x288 with 1 Axes>"
            ],
            "image/png": "[encoded data removed]"
          },
          "metadata": {
            "needs_background": "light"
          }
        }
      ]
    },
    {
      "cell_type": "markdown",
      "source": [
        "\n",
        "\n",
        "---\n",
        "\n",
        "\n",
        "**Blobs dataset: train the logistic regressor, use the validation set if needed, and test on the test set**\n",
        "\n",
        "---\n",
        "\n"
      ],
      "metadata": {
        "id": "W9O4pL15ByKd"
      }
    },
    {
      "cell_type": "code",
      "source": [
        "#splitting our data into training,validation and testing blobs dataset\n",
        "from sklearn.model_selection import train_test_split\n",
        "\n",
        "Xb, X_testblobs, yb, y_testblobs = train_test_split(X_blobs, y_blobs,train_size=0.8, test_size=0.2, random_state=1)\n",
        "Xb, X_valblobs, yb, y_valblobs = train_test_split(Xb, yb,train_size=0.75, test_size=0.25, random_state=1)\n",
        "\n",
        "Xb.shape,X_testblobs.shape,yb.shape,y_testblobs.shape,X_valblobs.shape,y_valblobs.shape"
      ],
      "metadata": {
        "colab": {
          "base_uri": "https://localhost:8080/"
        },
        "id": "bBVmI5ilSNEN",
        "outputId": "52d8f6f1-c387-4467-8727-ceb0b157ee84"
      },
      "execution_count": 10,
      "outputs": [
        {
          "output_type": "execute_result",
          "data": {
            "text/plain": [
              "((240, 3), (80, 3), (240,), (80,), (80, 3), (80,))"
            ]
          },
          "metadata": {},
          "execution_count": 10
        }
      ]
    },
    {
      "cell_type": "markdown",
      "source": [
        "\n",
        "\n",
        "---\n",
        "\n",
        "\n",
        "**Moons dataset: train the logistic regressor, use the validation set if needed, and test on the test sett**\n",
        "\n",
        "---\n",
        "\n"
      ],
      "metadata": {
        "id": "dHdU_LShB3zV"
      }
    },
    {
      "cell_type": "code",
      "source": [
        "#splitting our data into training,validation and testing moons dataset\n",
        "from sklearn.model_selection import train_test_split\n",
        "\n",
        "Xm, X_testmoons, ym, y_testmoons = train_test_split(X_moons, y_moons,train_size=0.8, test_size=0.2, random_state=1)\n",
        "Xm, X_valmoons, ym, y_valmoons = train_test_split(Xm, ym,train_size=0.75, test_size=0.25, random_state=1)\n",
        "\n",
        "Xm.shape,X_testmoons.shape,ym.shape,y_testmoons.shape,X_valmoons.shape,y_valmoons.shape"
      ],
      "metadata": {
        "colab": {
          "base_uri": "https://localhost:8080/"
        },
        "id": "EIi0NHpSWVW8",
        "outputId": "008f583d-e4b5-41d4-afe6-5c098a0bbde2"
      },
      "execution_count": 11,
      "outputs": [
        {
          "output_type": "execute_result",
          "data": {
            "text/plain": [
              "((300, 2), (100, 2), (300,), (100,), (100, 2), (100,))"
            ]
          },
          "metadata": {},
          "execution_count": 11
        }
      ]
    },
    {
      "cell_type": "code",
      "source": [
        "# blobs training dataset\n",
        "xt_trainblobs =  Xb.T\n",
        "\n",
        "# You can transpose the y data using 'reshape'\n",
        "y1_trainblobs = np.reshape(yb, (len(yb),1))  \n",
        "print (\"np.shape(yt_blobs):\", np.shape(y1_trainblobs))\n",
        "(nsamples, nattribs) = np.shape(y1_trainblobs)\n",
        "print (\"y1_trainblobs transpose: nsamples =\", nsamples, \", nattribs =\", nattribs)\n",
        "yt_trainblobs = y1_trainblobs.T\n",
        "\n",
        "# moons training dataset\n",
        "xt_trainmoons =  Xm.T\n",
        "\n",
        "# You can transpose the y data using 'reshape'\n",
        "y1_trainmoons = np.reshape(ym, (len(ym),1))  \n",
        "print (\"np.shape(yt_moons):\", np.shape(y1_trainmoons))\n",
        "(nsamples, nattribs) = np.shape(y1_trainmoons)\n",
        "print (\"y1_trainmoons transpose: nsamples =\", nsamples, \", nattribs =\", nattribs)\n",
        "yt_trainmoons = y1_trainmoons.T"
      ],
      "metadata": {
        "colab": {
          "base_uri": "https://localhost:8080/"
        },
        "id": "OhCbeqFaSoTX",
        "outputId": "c5ec7519-5547-4508-8722-8560a2f2022d"
      },
      "execution_count": 12,
      "outputs": [
        {
          "output_type": "stream",
          "name": "stdout",
          "text": [
            "np.shape(yt_blobs): (240, 1)\n",
            "y1_trainblobs transpose: nsamples = 240 , nattribs = 1\n",
            "np.shape(yt_moons): (300, 1)\n",
            "y1_trainmoons transpose: nsamples = 300 , nattribs = 1\n"
          ]
        }
      ]
    },
    {
      "cell_type": "code",
      "source": [
        "print(\"Shape of xt_trainblobs : \", xt_trainblobs.shape)\n",
        "print(\"Shape of yt_trainblobs : \", yt_trainblobs.shape)\n",
        "print(\"Shape of xt_trainmoons : \", xt_trainmoons.shape)\n",
        "print(\"Shape of yt_trainmoons : \", yt_trainmoons.shape)"
      ],
      "metadata": {
        "colab": {
          "base_uri": "https://localhost:8080/"
        },
        "id": "DQHxUIlF3_uq",
        "outputId": "399bf473-f420-4328-87ed-c34e3078252d"
      },
      "execution_count": 13,
      "outputs": [
        {
          "output_type": "stream",
          "name": "stdout",
          "text": [
            "Shape of xt_trainblobs :  (3, 240)\n",
            "Shape of yt_trainblobs :  (1, 240)\n",
            "Shape of xt_trainmoons :  (2, 300)\n",
            "Shape of yt_trainmoons :  (1, 300)\n"
          ]
        }
      ]
    },
    {
      "cell_type": "code",
      "source": [
        "#blobs dataset\n",
        "xt_valblobs = X_valblobs.T\n",
        "\n",
        "# You can transpose the y_valblobs data using 'reshape'\n",
        "y1_valblobs = np.reshape(y_valblobs, (len(y_valblobs),1))  \n",
        "print (\"np.shape(yt_valblobs):\", np.shape(y1_valblobs))\n",
        "(nsamples, nattribs) = np.shape(y1_valblobs)\n",
        "print (\"y transpose: nsamples =\", nsamples, \", nattribs =\", nattribs)\n",
        "yt_valblobs = y1_valblobs.T\n",
        "\n",
        "#moons dataset\n",
        "xt_valmoons = X_valmoons.T\n",
        "\n",
        "# You can transpose the y_valmoons data using 'reshape'\n",
        "y1_valmoons = np.reshape(y_valmoons, (len(y_valmoons),1))  \n",
        "print (\"np.shape(yt_valmoons):\", np.shape(y1_valmoons))\n",
        "(nsamples, nattribs) = np.shape(y1_valmoons)\n",
        "print (\"y transpose: nsamples =\", nsamples, \", nattribs =\", nattribs)\n",
        "yt_valmoons = y1_valmoons.T"
      ],
      "metadata": {
        "colab": {
          "base_uri": "https://localhost:8080/"
        },
        "id": "Ej9fHMb_z3wz",
        "outputId": "34645bb0-94ca-4f2a-f8c2-01dc5f5f161a"
      },
      "execution_count": 14,
      "outputs": [
        {
          "output_type": "stream",
          "name": "stdout",
          "text": [
            "np.shape(yt_valblobs): (80, 1)\n",
            "y transpose: nsamples = 80 , nattribs = 1\n",
            "np.shape(yt_valmoons): (100, 1)\n",
            "y transpose: nsamples = 100 , nattribs = 1\n"
          ]
        }
      ]
    },
    {
      "cell_type": "code",
      "source": [
        "print(\"Shape of xt_valblobs : \", xt_valblobs.shape)\n",
        "print(\"Shape of yt_valblobs : \", yt_valblobs.shape)\n",
        "print(\"Shape of xt_valmoons : \", xt_valmoons.shape)\n",
        "print(\"Shape of yt_valmoons : \", yt_valmoons.shape)"
      ],
      "metadata": {
        "colab": {
          "base_uri": "https://localhost:8080/"
        },
        "id": "430eIcGw0eHn",
        "outputId": "585b1dfc-ba78-45d5-a764-c99889ac4c93"
      },
      "execution_count": 15,
      "outputs": [
        {
          "output_type": "stream",
          "name": "stdout",
          "text": [
            "Shape of xt_valblobs :  (3, 80)\n",
            "Shape of yt_valblobs :  (1, 80)\n",
            "Shape of xt_valmoons :  (2, 100)\n",
            "Shape of yt_valmoons :  (1, 100)\n"
          ]
        }
      ]
    },
    {
      "cell_type": "code",
      "source": [
        "#blobs dataset\n",
        "xt_testblobs = X_testblobs.T\n",
        "\n",
        "# You can transpose the y_valblobs data using 'reshape'\n",
        "y1_testblobs = np.reshape(y_testblobs, (len(y_testblobs),1))  \n",
        "print (\"np.shape(yt_valblobs):\", np.shape(y1_testblobs))\n",
        "(nsamples, nattribs) = np.shape(y1_testblobs)\n",
        "print (\"y transpose: nsamples =\", nsamples, \", nattribs =\", nattribs)\n",
        "yt_testblobs = y1_testblobs.T\n",
        "\n",
        "#moons dataset\n",
        "xt_testmoons = X_testmoons.T\n",
        "\n",
        "# You can transpose the y_valmoons data using 'reshape'\n",
        "y1_testmoons = np.reshape(y_testmoons, (len(y_testmoons),1))  \n",
        "print (\"np.shape(y1_testmoons):\", np.shape(y1_testmoons))\n",
        "(nsamples, nattribs) = np.shape(y1_testmoons)\n",
        "print (\"y transpose: nsamples =\", nsamples, \", nattribs =\", nattribs)\n",
        "yt_testmoons = y1_testmoons.T"
      ],
      "metadata": {
        "colab": {
          "base_uri": "https://localhost:8080/"
        },
        "id": "de_vqU8o_JkA",
        "outputId": "c18439fb-4bdf-4f07-a8e8-c0a374ee404d"
      },
      "execution_count": 16,
      "outputs": [
        {
          "output_type": "stream",
          "name": "stdout",
          "text": [
            "np.shape(yt_valblobs): (80, 1)\n",
            "y transpose: nsamples = 80 , nattribs = 1\n",
            "np.shape(y1_testmoons): (100, 1)\n",
            "y transpose: nsamples = 100 , nattribs = 1\n"
          ]
        }
      ]
    },
    {
      "cell_type": "code",
      "source": [
        "print(\"Shape of xt_testblobs : \", xt_testblobs.shape)\n",
        "print(\"Shape of yt_testblobs : \", yt_testblobs.shape)\n",
        "print(\"Shape of xt_testmoons : \", xt_testmoons.shape)\n",
        "print(\"Shape of yt_testmoons : \", yt_testmoons.shape)"
      ],
      "metadata": {
        "colab": {
          "base_uri": "https://localhost:8080/"
        },
        "id": "0Sv0Cwtq_OnV",
        "outputId": "6bdbc5a8-c0b0-49e6-ab83-2dc8de5891ef"
      },
      "execution_count": 17,
      "outputs": [
        {
          "output_type": "stream",
          "name": "stdout",
          "text": [
            "Shape of xt_testblobs :  (3, 80)\n",
            "Shape of yt_testblobs :  (1, 80)\n",
            "Shape of xt_testmoons :  (2, 100)\n",
            "Shape of yt_testmoons :  (1, 100)\n"
          ]
        }
      ]
    },
    {
      "cell_type": "code",
      "source": [
        "iterations = 1000\n",
        "learning_rate = 0.001\n",
        "w1, b1, cost_list = model(xt_trainblobs, yt_trainblobs, learning_rate = learning_rate, iterations = iterations)"
      ],
      "metadata": {
        "colab": {
          "base_uri": "https://localhost:8080/"
        },
        "id": "bjn2VVgCPpLo",
        "outputId": "10fcb351-68ab-4d66-b783-67fe1ac1094f"
      },
      "execution_count": 18,
      "outputs": [
        {
          "output_type": "stream",
          "name": "stdout",
          "text": [
            "cost after  0 iteration is :  0.6931471805599453\n"
          ]
        }
      ]
    },
    {
      "cell_type": "code",
      "source": [
        "plt.plot(np.arange(iterations), cost_list)"
      ],
      "metadata": {
        "colab": {
          "base_uri": "https://localhost:8080/",
          "height": 284
        },
        "id": "r962VkNlg8x5",
        "outputId": "a446eda7-a77d-4ed8-f2c3-bb3045ab45ed"
      },
      "execution_count": 19,
      "outputs": [
        {
          "output_type": "execute_result",
          "data": {
            "text/plain": [
              "[<matplotlib.lines.Line2D at 0x7f9d9f4d7520>]"
            ]
          },
          "metadata": {},
          "execution_count": 19
        },
        {
          "output_type": "display_data",
          "data": {
            "text/plain": [
              "<Figure size 432x288 with 1 Axes>"
            ],
            "image/png": "[encoded data removed]"
          },
          "metadata": {
            "needs_background": "light"
          }
        }
      ]
    },
    {
      "cell_type": "code",
      "source": [
        "#Accuracy on blobs validation set\n",
        "accuracy(xt_valblobs, yt_valblobs, w1, b1)"
      ],
      "metadata": {
        "colab": {
          "base_uri": "https://localhost:8080/"
        },
        "id": "3rBuE7L_jXHX",
        "outputId": "1e62bd60-f0f1-48eb-c954-8da897a4f256"
      },
      "execution_count": 20,
      "outputs": [
        {
          "output_type": "stream",
          "name": "stdout",
          "text": [
            "Accuracy of the model is :  65.0 %\n"
          ]
        }
      ]
    },
    {
      "cell_type": "markdown",
      "source": [
        "\n",
        "\n",
        "---\n",
        "\n",
        "\n",
        "**Present results and observations on blobs test set**\n",
        "\n",
        "---\n",
        "\n"
      ],
      "metadata": {
        "id": "7ez_EeIrCBsc"
      }
    },
    {
      "cell_type": "code",
      "source": [
        "#Accuracy on blobs test set\n",
        "accuracy(xt_testblobs, yt_testblobs, w1, b1)"
      ],
      "metadata": {
        "colab": {
          "base_uri": "https://localhost:8080/"
        },
        "id": "eTWVSqw19Fab",
        "outputId": "bfe3accb-b3bf-4f9b-ff14-5e56954ea990"
      },
      "execution_count": 21,
      "outputs": [
        {
          "output_type": "stream",
          "name": "stdout",
          "text": [
            "Accuracy of the model is :  70.0 %\n"
          ]
        }
      ]
    },
    {
      "cell_type": "code",
      "source": [
        "iterations = 1000\n",
        "learning_rate = 0.001\n",
        "w2, b1, cost_list = model(xt_trainmoons, yt_trainmoons, learning_rate = learning_rate, iterations = iterations)"
      ],
      "metadata": {
        "colab": {
          "base_uri": "https://localhost:8080/"
        },
        "id": "ggpZ00TMYdXi",
        "outputId": "e060c7da-43fe-464e-ff17-a52e734c093b"
      },
      "execution_count": 22,
      "outputs": [
        {
          "output_type": "stream",
          "name": "stdout",
          "text": [
            "cost after  0 iteration is :  0.6931471805599453\n"
          ]
        }
      ]
    },
    {
      "cell_type": "code",
      "source": [
        "#Accuracy on moons validation set\n",
        "accuracy(xt_valmoons, yt_valmoons, w2, b1)"
      ],
      "metadata": {
        "colab": {
          "base_uri": "https://localhost:8080/"
        },
        "id": "ghTzJnGVYqF0",
        "outputId": "180ba8d6-5395-4fca-9423-021ace96c476"
      },
      "execution_count": 23,
      "outputs": [
        {
          "output_type": "stream",
          "name": "stdout",
          "text": [
            "Accuracy of the model is :  78.0 %\n"
          ]
        }
      ]
    },
    {
      "cell_type": "markdown",
      "source": [
        "\n",
        "\n",
        "---\n",
        "\n",
        "\n",
        "**Present results and observations on moons test set**\n",
        "\n",
        "\n",
        "\n",
        "---\n",
        "\n",
        "\n",
        "\n"
      ],
      "metadata": {
        "id": "E205ZPkaCO5D"
      }
    },
    {
      "cell_type": "code",
      "source": [
        "#Accuracy on moons test set\n",
        "accuracy(xt_testmoons, yt_testmoons, w2, b1)"
      ],
      "metadata": {
        "colab": {
          "base_uri": "https://localhost:8080/"
        },
        "id": "FZF7FbtR9W_u",
        "outputId": "73427ce4-9857-4f5a-8bed-639e62c69ee8"
      },
      "execution_count": 24,
      "outputs": [
        {
          "output_type": "stream",
          "name": "stdout",
          "text": [
            "Accuracy of the model is :  81.0 %\n"
          ]
        }
      ]
    },
    {
      "cell_type": "markdown",
      "source": [
        "\n",
        "\n",
        "---\n",
        "\n",
        "\n",
        "**Part - 3**\n",
        "\n",
        "\n",
        "\n",
        "---\n",
        "\n",
        "\n",
        "**Brief description of algorithm, including references to sources used.** \n",
        "\n",
        "---\n",
        "\n",
        "\n",
        "**Shallow neural networks are similar to deep learning networks. These networks are used to solve complex problems which algorithms without hidden layers cannot solve. Shallow neural networks contains 1 or 2 hidden layers not more than that.**\n",
        "\n",
        "**References -** https://towardsdatascience.com/building-a-shallow-neural-network-a4e2728441e0\n",
        "---\n",
        "\n"
      ],
      "metadata": {
        "id": "XsfSfNTwcni2"
      }
    },
    {
      "cell_type": "markdown",
      "source": [
        "**Correct implementation of a feed-forward neural network with 1 hidden layer and a standard kernel such as sigmoid, including backprop, extending your previous implementation of logistic regression.**\n",
        "\n",
        "---\n",
        "\n"
      ],
      "metadata": {
        "id": "7F199qk-Cj-x"
      }
    },
    {
      "cell_type": "code",
      "source": [
        "def tanh(x):\n",
        "  return np.tanh(x)"
      ],
      "metadata": {
        "id": "6EoqzRxacowY"
      },
      "execution_count": 25,
      "outputs": []
    },
    {
      "cell_type": "code",
      "source": [
        "# Define the sigmoid derivative function\n",
        "def derivative_tanh(x):\n",
        "  return(1 - np.power(np.tanh(x),2))\n",
        "\n",
        "# Define the sigmoid derivative function\n",
        "def derivative_sigmoid(s):\n",
        "    return sigmoid(s) * (1.0 - sigmoid(s))"
      ],
      "metadata": {
        "id": "HvPuaUI_FkoV"
      },
      "execution_count": 26,
      "outputs": []
    },
    {
      "cell_type": "code",
      "source": [
        "#Initialising the model parameters\n",
        "def parameters_initialization(input_unit, hidden_unit, output_unit):\n",
        "\n",
        "    W1 = np.random.randn(hidden_unit, input_unit)*0.01\n",
        "    b1 = np.zeros((hidden_unit, 1))\n",
        "    W2 = np.random.randn(output_unit, hidden_unit)*0.01\n",
        "    b2 = np.zeros((output_unit, 1))\n",
        "\n",
        "    parameters = {\"W1\": W1,\n",
        "                  \"b1\": b1,\n",
        "                  \"W2\": W2,\n",
        "                  \"b2\": b2}\n",
        "    \n",
        "    return parameters"
      ],
      "metadata": {
        "id": "QNgAm2JbKPHc"
      },
      "execution_count": 27,
      "outputs": []
    },
    {
      "cell_type": "code",
      "source": [
        "def forward_propagation(X, parameters):\n",
        "    W1 = parameters['W1']\n",
        "    b1 = parameters['b1']\n",
        "    W2 = parameters['W2']\n",
        "    b2 = parameters['b2']\n",
        "    \n",
        "    Z1 = np.dot(W1, X) + b1\n",
        "    A1 = tanh(Z1)\n",
        "\n",
        "    Z2 = np.dot(W2, A1) + b2\n",
        "    A2 = sigmoid(Z2)\n",
        "\n",
        "    cache = {\"Z1\": Z1,\n",
        "             \"A1\": A1,\n",
        "             \"Z2\": Z2,\n",
        "             \"A2\": A2}\n",
        "\n",
        "    return cache"
      ],
      "metadata": {
        "id": "e-8BtnLRKrOK"
      },
      "execution_count": 28,
      "outputs": []
    },
    {
      "cell_type": "code",
      "source": [
        "#cost function\n",
        "def cost_function(A2, Y):\n",
        "    # number of training example\n",
        "    m = Y.shape[1] \n",
        "\n",
        "    cost = -(1/m)*np.sum(Y*np.log(A2))\n",
        "\n",
        "    #cost = -(1/m)*np.sum(Y*np.log(A2) + (1-Y)*(np.log(1-A2)))\n",
        "    #cost = -(1/m)*np.sum(np.sum(Y*np.log(A2,0), 1))\n",
        "    #s = Y * np.log(A2) + (1 - Y) * np.log(1 - A2)\n",
        "    #cost = -np.sum(s) / m\n",
        "    return cost"
      ],
      "metadata": {
        "id": "W1fgFMH9KzwM"
      },
      "execution_count": 29,
      "outputs": []
    },
    {
      "cell_type": "code",
      "source": [
        "#Back propagation\n",
        "def backward_propagation(parameters, cache, X, Y):\n",
        "    #number of training example\n",
        "    m = X.shape[1]\n",
        "    \n",
        "    W1 = parameters['W1']\n",
        "    b1 = parameters['b1']\n",
        "    W2 = parameters['W2']\n",
        "    b2 = parameters['b2']\n",
        "\n",
        "    A1 = cache['A1']\n",
        "    A2 = cache['A2']\n",
        "   \n",
        "    dZ2 = A2-Y\n",
        "    dW2 = (1/m) * np.dot(dZ2, A1.T)\n",
        "    db2 = (1/m) * np.sum(dZ2, axis=1, keepdims=True)\n",
        "\n",
        "    # dZ1 = (1/m)*np.dot(W2.T, dZ2)*derivative_tanh(A1)\n",
        "    dZ1 = np.dot(W2.T, dZ2)*derivative_tanh(A1)\n",
        "    dW1 = (1/m) * np.dot(dZ1, X.T) \n",
        "    db1 = (1/m)*np.sum(dZ1, axis=1, keepdims=True)\n",
        "    \n",
        "    gradients = {\"dW1\": dW1, \"db1\": db1, \"dW2\": dW2,\"db2\": db2}\n",
        "    \n",
        "    return gradients"
      ],
      "metadata": {
        "id": "5_P1ut4SK4TX"
      },
      "execution_count": 30,
      "outputs": []
    },
    {
      "cell_type": "code",
      "source": [
        "#Gradient Descent (update parameters) / batch training\n",
        "def update_parameters(parameters, gradients, learning_rate):\n",
        "    W1 = parameters['W1']\n",
        "    b1 = parameters['b1']\n",
        "    W2 = parameters['W2']\n",
        "    b2 = parameters['b2']\n",
        "   \n",
        "    dW1 = gradients['dW1']\n",
        "    db1 = gradients['db1']\n",
        "    dW2 = gradients['dW2']\n",
        "    db2 = gradients['db2']\n",
        "\n",
        "    W1 = W1 - learning_rate * dW1\n",
        "    b1 = b1 - learning_rate * db1\n",
        "    W2 = W2 - learning_rate * dW2\n",
        "    b2 = b2 - learning_rate * db2\n",
        "    \n",
        "    parameters = {\"W1\": W1, \"b1\": b1,\"W2\": W2,\"b2\": b2}\n",
        "    \n",
        "    return parameters"
      ],
      "metadata": {
        "id": "Ut9d-yRELCjx"
      },
      "execution_count": 31,
      "outputs": []
    },
    {
      "cell_type": "code",
      "source": [
        "# Neural Network Model\n",
        "def neural_network_model(X, Y, hidden_unit, learning_rate, iterations):\n",
        "    \n",
        "    input_unit = X.shape[0]\n",
        "    output_unit = Y.shape[0]\n",
        "\n",
        "    cost_list = []\n",
        "    parameters = parameters_initialization(input_unit, hidden_unit, output_unit)\n",
        "   \n",
        "    W1 = parameters['W1']\n",
        "    b1 = parameters['b1']\n",
        "    W2 = parameters['W2']\n",
        "    b2 = parameters['b2']\n",
        "    \n",
        "    for i in range(0, iterations):\n",
        "\n",
        "        cache = forward_propagation(X, parameters)\n",
        "        cost = cost_function(cache['A2'], Y)\n",
        "        gradients = backward_propagation(parameters, cache, X, Y)\n",
        "        parameters = update_parameters(parameters, gradients, learning_rate)\n",
        "\n",
        "        cost_list.append(cost)\n",
        "        \n",
        "        if (i%(iterations/10) == 0):\n",
        "          print(\"Cost after\", i, \"iterations is :\", cost)\n",
        "\n",
        "\n",
        "    return parameters, cost_list"
      ],
      "metadata": {
        "id": "xzd3Ld-zLJtz"
      },
      "execution_count": 32,
      "outputs": []
    },
    {
      "cell_type": "markdown",
      "source": [
        "**Train on the Moons dataset**"
      ],
      "metadata": {
        "id": "31OJDFSOC4M7"
      }
    },
    {
      "cell_type": "code",
      "source": [
        "iterations = 1000\n",
        "hidden_unit = 4\n",
        "learning_rate = 0.01\n",
        "Parameters, cost_list = neural_network_model(xt_trainmoons, yt_trainmoons, hidden_unit=hidden_unit, learning_rate=learning_rate, iterations = iterations)"
      ],
      "metadata": {
        "colab": {
          "base_uri": "https://localhost:8080/"
        },
        "id": "UA89kthAARjg",
        "outputId": "dbbcb825-0ebf-46ee-8525-835f3b4bf24e"
      },
      "execution_count": 33,
      "outputs": [
        {
          "output_type": "stream",
          "name": "stdout",
          "text": [
            "Cost after 0 iterations is : 0.34889476522016927\n",
            "Cost after 100 iterations is : 0.34813740199080295\n",
            "Cost after 200 iterations is : 0.34754663289458354\n",
            "Cost after 300 iterations is : 0.34707562012227317\n",
            "Cost after 400 iterations is : 0.34668365133178786\n",
            "Cost after 500 iterations is : 0.34632869510602543\n",
            "Cost after 600 iterations is : 0.3459575164360731\n",
            "Cost after 700 iterations is : 0.3454900183022901\n",
            "Cost after 800 iterations is : 0.34479277118995966\n",
            "Cost after 900 iterations is : 0.3436346989975015\n"
          ]
        }
      ]
    },
    {
      "cell_type": "code",
      "source": [
        "t = np.arange(0, iterations)\n",
        "plt.plot(t, cost_list)\n",
        "plt.show"
      ],
      "metadata": {
        "colab": {
          "base_uri": "https://localhost:8080/",
          "height": 283
        },
        "id": "UHpiVhNzDJSS",
        "outputId": "21e61c21-89f6-44e2-b03e-0b10c24abf7b"
      },
      "execution_count": 34,
      "outputs": [
        {
          "output_type": "execute_result",
          "data": {
            "text/plain": [
              "<function matplotlib.pyplot.show(close=None, block=None)>"
            ]
          },
          "metadata": {},
          "execution_count": 34
        },
        {
          "output_type": "display_data",
          "data": {
            "text/plain": [
              "<Figure size 432x288 with 1 Axes>"
            ],
            "image/png": "[encoded data removed]"
          },
          "metadata": {
            "needs_background": "light"
          }
        }
      ]
    },
    {
      "cell_type": "code",
      "source": [
        "def accuracy(inp, labels, paramters):\n",
        "  cache = forward_propagation(inp, Parameters)\n",
        "  a_out = cache['A2']\n",
        "  \n",
        "  a_out = np.argmax(a_out, 0)\n",
        "  y_out = np.argmax(labels,0)\n",
        "  a_out == y_out\n",
        "  \n",
        "  acc = np.mean(a_out == y_out)*100\n",
        "  \n",
        "  return acc"
      ],
      "metadata": {
        "id": "hdA9UYV7Eeft"
      },
      "execution_count": 35,
      "outputs": []
    },
    {
      "cell_type": "markdown",
      "source": [
        "**Test on the Moons dataset**"
      ],
      "metadata": {
        "id": "O03VsbOQC-gl"
      }
    },
    {
      "cell_type": "code",
      "source": [
        "print(\"Accuracy of train dataset is :\", accuracy(xt_trainmoons, yt_trainmoons, Parameters))\n",
        "print(\"Accuracy of test dataset is :\", accuracy(xt_testmoons, yt_testmoons, Parameters))"
      ],
      "metadata": {
        "colab": {
          "base_uri": "https://localhost:8080/"
        },
        "id": "IePpfKRuGo_J",
        "outputId": "7832ce0b-a2a0-4b55-c059-b15ee16d2824"
      },
      "execution_count": 36,
      "outputs": [
        {
          "output_type": "stream",
          "name": "stdout",
          "text": [
            "Accuracy of train dataset is : 100.0\n",
            "Accuracy of test dataset is : 100.0\n"
          ]
        }
      ]
    },
    {
      "cell_type": "markdown",
      "source": [
        "**Train on the blobs dataset**"
      ],
      "metadata": {
        "id": "GN2lthTgDCnK"
      }
    },
    {
      "cell_type": "code",
      "source": [
        "iterations = 1000\n",
        "hidden_unit = 4\n",
        "learning_rate = 0.01\n",
        "Parameters, cost_list = neural_network_model(xt_trainblobs, yt_trainblobs, hidden_unit=hidden_unit, learning_rate=learning_rate, iterations = iterations)"
      ],
      "metadata": {
        "colab": {
          "base_uri": "https://localhost:8080/"
        },
        "id": "8jGhk_GhJo8c",
        "outputId": "7c4a6c19-91a8-45a2-84f3-e1a7d636acd6"
      },
      "execution_count": 37,
      "outputs": [
        {
          "output_type": "stream",
          "name": "stdout",
          "text": [
            "Cost after 0 iterations is : 0.33514439835481724\n",
            "Cost after 100 iterations is : 0.339072587607235\n",
            "Cost after 200 iterations is : 0.34283360738751884\n",
            "Cost after 300 iterations is : 0.34778050744021594\n",
            "Cost after 400 iterations is : 0.3540344726858315\n",
            "Cost after 500 iterations is : 0.3547617693497867\n",
            "Cost after 600 iterations is : 0.3387698126051023\n",
            "Cost after 700 iterations is : 0.30362117723980914\n",
            "Cost after 800 iterations is : 0.25975034590067564\n",
            "Cost after 900 iterations is : 0.21956686155029617\n"
          ]
        }
      ]
    },
    {
      "cell_type": "code",
      "source": [
        "t = np.arange(0, iterations)\n",
        "plt.plot(t, cost_list)\n",
        "plt.show"
      ],
      "metadata": {
        "colab": {
          "base_uri": "https://localhost:8080/",
          "height": 283
        },
        "id": "08qR6EpvJzgO",
        "outputId": "8c404154-56f2-4dae-a2e8-ae9c54769231"
      },
      "execution_count": 38,
      "outputs": [
        {
          "output_type": "execute_result",
          "data": {
            "text/plain": [
              "<function matplotlib.pyplot.show(close=None, block=None)>"
            ]
          },
          "metadata": {},
          "execution_count": 38
        },
        {
          "output_type": "display_data",
          "data": {
            "text/plain": [
              "<Figure size 432x288 with 1 Axes>"
            ],
            "image/png": "[encoded data removed]"
          },
          "metadata": {
            "needs_background": "light"
          }
        }
      ]
    },
    {
      "cell_type": "markdown",
      "source": [
        "**Test on the Moons dataset**"
      ],
      "metadata": {
        "id": "Ha9tGALwDGYJ"
      }
    },
    {
      "cell_type": "code",
      "source": [
        "print(\"Accuracy of train dataset is :\", accuracy(xt_trainblobs, yt_trainblobs, Parameters))\n",
        "print(\"Accuracy of test dataset is :\", accuracy(xt_testblobs, yt_testblobs, Parameters))"
      ],
      "metadata": {
        "colab": {
          "base_uri": "https://localhost:8080/"
        },
        "id": "dAr3J0SdJ0MV",
        "outputId": "9c43b51a-7897-4408-b8da-2784d93e8ef2"
      },
      "execution_count": 39,
      "outputs": [
        {
          "output_type": "stream",
          "name": "stdout",
          "text": [
            "Accuracy of train dataset is : 100.0\n",
            "Accuracy of test dataset is : 100.0\n"
          ]
        }
      ]
    },
    {
      "cell_type": "markdown",
      "source": [
        "\n",
        "\n",
        "---\n",
        "\n",
        "\n",
        "**Observations : The model is correctly implemented and it can be seen that the accuracy of implemented model is 100% which upto some extent delivers the message that it is either over learning or the model is overfitting. Although, when the trend is seen after iteration, cost error seems to be decreasing.**"
      ],
      "metadata": {
        "id": "tVFGORgnLcUB"
      }
    },
    {
      "cell_type": "markdown",
      "source": [
        "\n",
        "\n",
        "\n",
        "---\n",
        "\n",
        "\n",
        "**Part - 4**\n",
        "\n",
        "---\n",
        "**Code to read in the big dataset, and sample subsets for training, validation and testing**\n",
        "\n",
        "\n",
        "---\n",
        "\n"
      ],
      "metadata": {
        "id": "Krl9988ELWYn"
      }
    },
    {
      "cell_type": "code",
      "source": [
        "# This function taken directly from the Fashion-MNIST github site: \n",
        "# https://github.com/zalandoresearch/fashion-mnist/blob/master/utils/mnist_reader.py\n",
        "\n",
        "# Note: first arg is the path name, second is the file prefix, either 'train' or 't10k' (which is 10k of test data)\n",
        "def load_mnist(path, kind='test'): \n",
        "    import os\n",
        "    import gzip\n",
        "    import numpy as np\n",
        "\n",
        "    \"\"\"Load MNIST data from `path`\"\"\"\n",
        "    labels_path = os.path.join(path,\n",
        "                               '%s-labels-idx1-ubyte.gz'\n",
        "                               % kind)\n",
        "    images_path = os.path.join(path,\n",
        "                               '%s-images-idx3-ubyte.gz'\n",
        "                               % kind)\n",
        "\n",
        "    with gzip.open(labels_path, 'rb') as lbpath:\n",
        "        labels = np.frombuffer(lbpath.read(), dtype=np.uint8,\n",
        "                               offset=8)\n",
        "\n",
        "    with gzip.open(images_path, 'rb') as imgpath:\n",
        "        images = np.frombuffer(imgpath.read(), dtype=np.uint8,\n",
        "                               offset=16).reshape(len(labels), 784)\n",
        "\n",
        "    return images, labels\n",
        "\n",
        "# Loaded in this way, each of the batch files contains a dictionary with the following elements:\n",
        "#   data -- a 10000x3072 numpy array of uint8s. Each row of the array stores a 32x32 colour image. \n",
        "#           The first 1024 entries contain the red channel values, the next 1024 the green, and the final 1024 the blue. \n",
        "#           The image is stored in row-major order, so that the first 32 entries of the array are the red channel values \n",
        "#           of the first row of the image.\n",
        "#   labels -- a list of 10000 numbers in the range 0-9. \n",
        "#             The number at index i indicates the label of the ith image in the array data.\n"
      ],
      "metadata": {
        "id": "7f4PyyJlK_X2"
      },
      "execution_count": 40,
      "outputs": []
    },
    {
      "cell_type": "code",
      "source": [
        "(train_imgs, train_labels) = load_mnist('/content/drive/MyDrive/Colab Notebooks/', 'train')\n",
        "(test_imgs, test_labels) = load_mnist('/content/drive/MyDrive/Colab Notebooks/', 't10k')\n",
        "print(train_imgs.shape)\n",
        "print(test_imgs.shape)"
      ],
      "metadata": {
        "colab": {
          "base_uri": "https://localhost:8080/"
        },
        "id": "6XfM5CKfLD9R",
        "outputId": "45604afe-bbc1-49b0-99ec-b40085eefa7f"
      },
      "execution_count": 41,
      "outputs": [
        {
          "output_type": "stream",
          "name": "stdout",
          "text": [
            "(60000, 784)\n",
            "(10000, 784)\n"
          ]
        }
      ]
    },
    {
      "cell_type": "code",
      "source": [
        "label_names = ['T-shirt/top', 'Trouser' , 'Pullover', 'Dress', 'Coat', 'Sandal', 'Shirt', 'Sneaker', 'Bag', 'Ankle boot']"
      ],
      "metadata": {
        "id": "UCVwZMzZQCf4"
      },
      "execution_count": 42,
      "outputs": []
    },
    {
      "cell_type": "code",
      "source": [
        "import numpy as np\n",
        "\n",
        "train_filter = np.where((train_labels == 3 ) | (train_labels == 7))\n",
        "test_filter = np.where((test_labels == 3) | (test_labels == 7))"
      ],
      "metadata": {
        "id": "3WqG3RzpSsUw"
      },
      "execution_count": 43,
      "outputs": []
    },
    {
      "cell_type": "code",
      "source": [
        "train_images, train_labels = train_imgs[train_filter], train_labels[train_filter]\n",
        "test_images, test_labels = test_imgs[test_filter], test_labels[test_filter]"
      ],
      "metadata": {
        "id": "5h97Miw1S6NK"
      },
      "execution_count": 44,
      "outputs": []
    },
    {
      "cell_type": "code",
      "source": [
        "test_labels"
      ],
      "metadata": {
        "colab": {
          "base_uri": "https://localhost:8080/"
        },
        "id": "YZQLZfeqVtKM",
        "outputId": "b4a037bc-20bb-4671-c154-1ae8807c1cf3"
      },
      "execution_count": 45,
      "outputs": [
        {
          "output_type": "execute_result",
          "data": {
            "text/plain": [
              "array([7, 7, 3, ..., 7, 3, 7], dtype=uint8)"
            ]
          },
          "metadata": {},
          "execution_count": 45
        }
      ]
    },
    {
      "cell_type": "code",
      "source": [
        "#fashion dataset\n",
        "train_images_t = train_images.T\n",
        "\n",
        "# You can transpose the y_valblobs data using 'reshape'\n",
        "y1_train_labels = np.reshape(train_labels, (len(train_labels),1))  \n",
        "print (\"np.shape(y1_train_labels):\", np.shape(y1_train_labels))\n",
        "(nsamples, nattribs) = np.shape(y1_train_labels)\n",
        "print (\"y transpose: nsamples =\", nsamples, \", nattribs =\", nattribs)\n",
        "train_labels_t = y1_train_labels.T\n",
        "\n",
        "#moons dataset\n",
        "test_images_t = test_images.T\n",
        "\n",
        "# You can transpose the y_valmoons data using 'reshape'\n",
        "y1_test_labels = np.reshape(test_labels, (len(test_labels),1))  \n",
        "print (\"np.shape(y1_test_labels):\", np.shape(y1_test_labels))\n",
        "(nsamples, nattribs) = np.shape(y1_test_labels)\n",
        "print (\"y transpose: nsamples =\", nsamples, \", nattribs =\", nattribs)\n",
        "test_labels_t = y1_test_labels.T"
      ],
      "metadata": {
        "colab": {
          "base_uri": "https://localhost:8080/"
        },
        "id": "yrs-KKjWObRX",
        "outputId": "f94aa602-7d2c-4854-ab1a-51f7123a14ad"
      },
      "execution_count": 46,
      "outputs": [
        {
          "output_type": "stream",
          "name": "stdout",
          "text": [
            "np.shape(y1_train_labels): (12000, 1)\n",
            "y transpose: nsamples = 12000 , nattribs = 1\n",
            "np.shape(y1_test_labels): (2000, 1)\n",
            "y transpose: nsamples = 2000 , nattribs = 1\n"
          ]
        }
      ]
    },
    {
      "cell_type": "code",
      "source": [
        "print(train_images_t.shape)\n",
        "print(train_labels_t.shape)\n",
        "print(test_images_t.shape)\n",
        "print(test_labels_t.shape)"
      ],
      "metadata": {
        "colab": {
          "base_uri": "https://localhost:8080/"
        },
        "id": "0Ou-UgoIVk8k",
        "outputId": "ae4a5def-0244-462b-88fe-434ecbd42b76"
      },
      "execution_count": 47,
      "outputs": [
        {
          "output_type": "stream",
          "name": "stdout",
          "text": [
            "(784, 12000)\n",
            "(1, 12000)\n",
            "(784, 2000)\n",
            "(1, 2000)\n"
          ]
        }
      ]
    },
    {
      "cell_type": "markdown",
      "source": [
        "**Train the NN**"
      ],
      "metadata": {
        "id": "_5dWR22xFs46"
      }
    },
    {
      "cell_type": "code",
      "source": [
        "iterations = 1000\n",
        "hidden_unit = 4\n",
        "learning_rate = 0.001\n",
        "Parameters, cost_list = neural_network_model(train_images_t, train_labels_t, hidden_unit=hidden_unit, learning_rate=learning_rate, iterations = iterations)"
      ],
      "metadata": {
        "colab": {
          "base_uri": "https://localhost:8080/"
        },
        "id": "Zp0dINfJYRGO",
        "outputId": "620f0e4f-7165-4454-c8d0-862db33e9e5a"
      },
      "execution_count": 48,
      "outputs": [
        {
          "output_type": "stream",
          "name": "stdout",
          "text": [
            "Cost after 0 iterations is : 3.444065522026529\n",
            "Cost after 100 iterations is : 0.5521516658540302\n",
            "Cost after 200 iterations is : 0.07657212473179303\n",
            "Cost after 300 iterations is : 0.010397087798575122\n",
            "Cost after 400 iterations is : 0.0014077195045331394\n",
            "Cost after 500 iterations is : 0.00019052559761157\n",
            "Cost after 600 iterations is : 2.5785045979427647e-05\n",
            "Cost after 700 iterations is : 3.489630351742029e-06\n",
            "Cost after 800 iterations is : 4.722701830601504e-07\n",
            "Cost after 900 iterations is : 6.39148199565492e-08\n"
          ]
        }
      ]
    },
    {
      "cell_type": "code",
      "source": [
        "t = np.arange(0, iterations)\n",
        "plt.plot(t, cost_list)\n",
        "plt.show"
      ],
      "metadata": {
        "colab": {
          "base_uri": "https://localhost:8080/",
          "height": 283
        },
        "id": "wvMAH6MTklP3",
        "outputId": "466fc157-1048-49dd-9f56-d41bbde92052"
      },
      "execution_count": 49,
      "outputs": [
        {
          "output_type": "execute_result",
          "data": {
            "text/plain": [
              "<function matplotlib.pyplot.show(close=None, block=None)>"
            ]
          },
          "metadata": {},
          "execution_count": 49
        },
        {
          "output_type": "display_data",
          "data": {
            "text/plain": [
              "<Figure size 432x288 with 1 Axes>"
            ],
            "image/png": "[encoded data removed]"
          },
          "metadata": {
            "needs_background": "light"
          }
        }
      ]
    },
    {
      "cell_type": "code",
      "source": [
        "print(\"Accuracy of train dataset is :\", accuracy(train_images_t , train_labels_t, Parameters))\n",
        "print(\"Accuracy of test dataset is :\", accuracy(test_images_t, test_labels_t, Parameters))"
      ],
      "metadata": {
        "colab": {
          "base_uri": "https://localhost:8080/"
        },
        "id": "rBqBUBGIeQO8",
        "outputId": "67e3e6b6-6d63-4b81-e42f-8aceb44495c8"
      },
      "execution_count": 50,
      "outputs": [
        {
          "output_type": "stream",
          "name": "stdout",
          "text": [
            "Accuracy of train dataset is : 100.0\n",
            "Accuracy of test dataset is : 100.0\n"
          ]
        }
      ]
    },
    {
      "cell_type": "markdown",
      "source": [
        "Part -5 \n",
        "\n",
        "---\n",
        "\n",
        "\n",
        "**L2 regularisation**\n",
        "\n",
        "---\n",
        "\n",
        "**I have implemented the neural network again with an additional term of L2 regularisation in the cost function. L2 regularisation helps in the over-learning of the model and reduces or removes some terms from equation to give a balanced weight and accuracy score as L2 regularisation tends to shrink ters evenly.**\n",
        "\n",
        "**References** - **https://towardsdatascience.com/l1-and-l2-regularization-methods-ce25e7fc831c**"
      ],
      "metadata": {
        "id": "9xMFnY8AM6cs"
      }
    },
    {
      "cell_type": "code",
      "source": [
        "#cost function\n",
        "def cost_fnctn_reg(A2, Y, parameters, lambd):\n",
        "    # number of training example\n",
        "    m = Y.shape[1] \n",
        "\n",
        "    W1 = parameters['W1']\n",
        "    W2 = parameters['W2']\n",
        "\n",
        "    cost = -(1/m)*np.sum(Y*np.log(A2))\n",
        "    L2_regularisation_cost = (lambd/2*m)*(np.sum(np.square(W1) + np.sum(np.square(W2))))\n",
        "\n",
        "    cost = cost + L2_regularisation_cost\n",
        "    \n",
        "    return cost"
      ],
      "metadata": {
        "id": "xWpeXoZyM_De"
      },
      "execution_count": 51,
      "outputs": []
    },
    {
      "cell_type": "code",
      "source": [
        "#Back propagation\n",
        "def backward_propagation_reg(parameters, cache, X, Y, lambd):\n",
        "    #number of training example\n",
        "    m = X.shape[1]\n",
        "    \n",
        "    W1 = parameters['W1']\n",
        "    b1 = parameters['b1']\n",
        "    W2 = parameters['W2']\n",
        "    b2 = parameters['b2']\n",
        "\n",
        "    A1 = cache['A1']\n",
        "    A2 = cache['A2']\n",
        "   \n",
        "    dZ2 = A2-Y\n",
        "    dW2 = (1/m) * np.dot(dZ2, A1.T) + (lambd*W2)/m\n",
        "    db2 = (1/m) * np.sum(dZ2, axis=1, keepdims=True)\n",
        "\n",
        "    dZ1 = (1/m)*np.dot(W2.T, dZ2)*derivative_tanh(A1)\n",
        "    dW1 = (1/m) * np.dot(dZ1, X.T) + (lambd*W1)/m\n",
        "    db1 = (1/m)*np.sum(dZ1, axis=1, keepdims=True)\n",
        "    \n",
        "    gradients = {\"dW1\": dW1, \"db1\": db1, \"dW2\": dW2,\"db2\": db2}\n",
        "    \n",
        "    return gradients"
      ],
      "metadata": {
        "id": "ChcsxFiZ0wOF"
      },
      "execution_count": 52,
      "outputs": []
    },
    {
      "cell_type": "code",
      "source": [
        "# Neural Network Model\n",
        "def neural_network_model_reg(X, Y, hidden_unit, learning_rate, iterations, lambd):\n",
        "    \n",
        "    input_unit = X.shape[0]\n",
        "    output_unit = Y.shape[0]\n",
        "\n",
        "    cost_list = []\n",
        "    parameters = parameters_initialization(input_unit, hidden_unit, output_unit)\n",
        "   \n",
        "    W1 = parameters['W1']\n",
        "    b1 = parameters['b1']\n",
        "    W2 = parameters['W2']\n",
        "    b2 = parameters['b2']\n",
        "    \n",
        "    for i in range(0, iterations):\n",
        "\n",
        "        cache = forward_propagation(X, parameters)\n",
        "        cost = cost_fnctn_reg(cache['A2'], Y, parameters, lambd)\n",
        "        gradients = backward_propagation_reg(parameters, cache, X, Y, lambd)\n",
        "        parameters = update_parameters(parameters, gradients, learning_rate)\n",
        "\n",
        "        cost_list.append(cost)\n",
        "        \n",
        "        if (i%(iterations/10) == 0):\n",
        "          print(\"Cost after\", i, \"iterations is :\", cost)\n",
        "\n",
        "\n",
        "    return parameters, cost_list"
      ],
      "metadata": {
        "id": "8tWwW_-12FhF"
      },
      "execution_count": 53,
      "outputs": []
    },
    {
      "cell_type": "code",
      "source": [
        "iterations = 1000\n",
        "hidden_unit = 4\n",
        "learning_rate = 0.001\n",
        "lambd = 0.7\n",
        "Parameters, cost_list = neural_network_model_reg(train_images_t, train_labels_t, hidden_unit=hidden_unit, learning_rate=learning_rate, iterations = iterations, lambd=lambd)"
      ],
      "metadata": {
        "colab": {
          "base_uri": "https://localhost:8080/"
        },
        "id": "mVZL5wMb3Fa3",
        "outputId": "dce5078e-bd43-4761-b4b9-53232bda330a"
      },
      "execution_count": 54,
      "outputs": [
        {
          "output_type": "stream",
          "name": "stdout",
          "text": [
            "Cost after 0 iterations is : 7011.280023545364\n",
            "Cost after 100 iterations is : 5775819.234847634\n",
            "Cost after 200 iterations is : 24210086.279032957\n",
            "Cost after 300 iterations is : 55561595.22017332\n",
            "Cost after 400 iterations is : 101025186.8052632\n",
            "Cost after 500 iterations is : 163260245.73550183\n",
            "Cost after 600 iterations is : 242468994.49506637\n",
            "Cost after 700 iterations is : 338542922.77440727\n",
            "Cost after 800 iterations is : 451474282.45759827\n",
            "Cost after 900 iterations is : 581262966.1692557\n"
          ]
        }
      ]
    },
    {
      "cell_type": "code",
      "source": [
        "print(\"Accuracy of train dataset is :\", accuracy(train_images_t , train_labels_t, Parameters))\n",
        "print(\"Accuracy of test dataset is :\", accuracy(test_images_t, test_labels_t, Parameters))"
      ],
      "metadata": {
        "colab": {
          "base_uri": "https://localhost:8080/"
        },
        "id": "jArZg4uq408b",
        "outputId": "459eec79-e086-4ce0-9a0f-6a6b8d735975"
      },
      "execution_count": 55,
      "outputs": [
        {
          "output_type": "stream",
          "name": "stdout",
          "text": [
            "Accuracy of train dataset is : 100.0\n",
            "Accuracy of test dataset is : 100.0\n"
          ]
        }
      ]
    }
  ]
}